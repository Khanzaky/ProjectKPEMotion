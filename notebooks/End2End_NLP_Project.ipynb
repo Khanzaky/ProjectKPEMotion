{
  "cells": [
    {
      "cell_type": "markdown",
      "id": "36f38e2a-9998-4c73-bfc3-21b74d64a5ee",
      "metadata": {
        "id": "36f38e2a-9998-4c73-bfc3-21b74d64a5ee"
      },
      "source": [
        "### End 2 End NLP Project\n",
        "+ Emotion Detection In Text\n",
        "+ Text Classifier"
      ]
    },
    {
      "cell_type": "code",
      "execution_count": 33,
      "id": "f0814628-3d83-4fd6-a511-2eccf79f9f1e",
      "metadata": {
        "id": "f0814628-3d83-4fd6-a511-2eccf79f9f1e"
      },
      "outputs": [],
      "source": [
        "# Load EDA Pkgs\n",
        "import pandas as pd\n",
        "import numpy as np\n",
        "import pickle"
      ]
    },
    {
      "cell_type": "code",
      "execution_count": 34,
      "id": "ea0d580d-c31c-44b7-b09b-10225857eebe",
      "metadata": {
        "id": "ea0d580d-c31c-44b7-b09b-10225857eebe"
      },
      "outputs": [],
      "source": [
        "# Load Data Viz Pkgs\n",
        "import seaborn as sns"
      ]
    },
    {
      "cell_type": "code",
      "execution_count": 35,
      "id": "91eccfbf-d4d0-4e16-b0f7-2d7941efddb0",
      "metadata": {
        "id": "91eccfbf-d4d0-4e16-b0f7-2d7941efddb0"
      },
      "outputs": [],
      "source": [
        "# Load Text Cleaning Pkgs\n",
        "import neattext.functions as nfx"
      ]
    },
    {
      "cell_type": "code",
      "execution_count": 36,
      "id": "21e7e868-35fb-483f-82b6-842a29ef1342",
      "metadata": {
        "id": "21e7e868-35fb-483f-82b6-842a29ef1342"
      },
      "outputs": [],
      "source": [
        "# Load ML Pkgs\n",
        "# Estimators\n",
        "from sklearn.linear_model import LogisticRegression\n",
        "from sklearn.naive_bayes import MultinomialNB\n",
        "\n",
        "# Transformers\n",
        "from sklearn.feature_extraction.text import CountVectorizer\n",
        "from sklearn.model_selection import train_test_split\n",
        "from sklearn.metrics import accuracy_score,classification_report,confusion_matrix"
      ]
    },
    {
      "cell_type": "code",
      "execution_count": 37,
      "id": "b209e004-ab77-4407-8689-b4318944d47f",
      "metadata": {
        "colab": {
          "base_uri": "https://localhost:8080/"
        },
        "id": "b209e004-ab77-4407-8689-b4318944d47f",
        "outputId": "c4dfd4d2-18e3-439b-99b0-2ec59d40c3d8"
      },
      "outputs": [],
      "source": [
        "df = pd.read_csv(\"D:/New folder/EmotionNLP/data/dasetEmotion.csv\", )"
      ]
    },
    {
      "cell_type": "code",
      "execution_count": 38,
      "id": "fea2d4c0-3bdd-405e-ab69-507ceaac36cb",
      "metadata": {
        "colab": {
          "base_uri": "https://localhost:8080/",
          "height": 206
        },
        "id": "fea2d4c0-3bdd-405e-ab69-507ceaac36cb",
        "outputId": "a867ae33-697e-4d18-81b2-c5693e0ee73e"
      },
      "outputs": [
        {
          "data": {
            "text/html": [
              "<div>\n",
              "<style scoped>\n",
              "    .dataframe tbody tr th:only-of-type {\n",
              "        vertical-align: middle;\n",
              "    }\n",
              "\n",
              "    .dataframe tbody tr th {\n",
              "        vertical-align: top;\n",
              "    }\n",
              "\n",
              "    .dataframe thead th {\n",
              "        text-align: right;\n",
              "    }\n",
              "</style>\n",
              "<table border=\"1\" class=\"dataframe\">\n",
              "  <thead>\n",
              "    <tr style=\"text-align: right;\">\n",
              "      <th></th>\n",
              "      <th>Unnamed: 0</th>\n",
              "      <th>Emotion</th>\n",
              "      <th>Text</th>\n",
              "      <th>Clean_text</th>\n",
              "    </tr>\n",
              "  </thead>\n",
              "  <tbody>\n",
              "    <tr>\n",
              "      <th>0</th>\n",
              "      <td>1</td>\n",
              "      <td>senang</td>\n",
              "      <td>Pelayanannya sangat memuaskan.</td>\n",
              "      <td>pelayanannya sangat memuaskan</td>\n",
              "    </tr>\n",
              "    <tr>\n",
              "      <th>1</th>\n",
              "      <td>2</td>\n",
              "      <td>puas</td>\n",
              "      <td>Proses administrasinya cepat dan mudah.</td>\n",
              "      <td>proses administrasi cepat mudah</td>\n",
              "    </tr>\n",
              "    <tr>\n",
              "      <th>2</th>\n",
              "      <td>3</td>\n",
              "      <td>biasa saja</td>\n",
              "      <td>Tidak ada yang istimewa dari pelayanannya.</td>\n",
              "      <td>tidak ada yang istimewa pelayanannya</td>\n",
              "    </tr>\n",
              "    <tr>\n",
              "      <th>3</th>\n",
              "      <td>4</td>\n",
              "      <td>kesal</td>\n",
              "      <td>Pelayanannya sangat lambat dan tidak responsif.</td>\n",
              "      <td>pelayanannya sangat lambat tidak responsif</td>\n",
              "    </tr>\n",
              "    <tr>\n",
              "      <th>4</th>\n",
              "      <td>5</td>\n",
              "      <td>kecewa</td>\n",
              "      <td>Kualitas layanan menurun drastis.</td>\n",
              "      <td>kualitas layanan menurun drastis</td>\n",
              "    </tr>\n",
              "  </tbody>\n",
              "</table>\n",
              "</div>"
            ],
            "text/plain": [
              "   Unnamed: 0     Emotion                                              Text  \\\n",
              "0           1      senang                    Pelayanannya sangat memuaskan.   \n",
              "1           2        puas           Proses administrasinya cepat dan mudah.   \n",
              "2           3  biasa saja        Tidak ada yang istimewa dari pelayanannya.   \n",
              "3           4       kesal   Pelayanannya sangat lambat dan tidak responsif.   \n",
              "4           5      kecewa                 Kualitas layanan menurun drastis.   \n",
              "\n",
              "                                    Clean_text  \n",
              "0                pelayanannya sangat memuaskan  \n",
              "1              proses administrasi cepat mudah  \n",
              "2         tidak ada yang istimewa pelayanannya  \n",
              "3   pelayanannya sangat lambat tidak responsif  \n",
              "4             kualitas layanan menurun drastis  "
            ]
          },
          "execution_count": 38,
          "metadata": {},
          "output_type": "execute_result"
        }
      ],
      "source": [
        "df.head()"
      ]
    },
    {
      "cell_type": "code",
      "execution_count": 39,
      "id": "i3MAD-D3T5Ur",
      "metadata": {
        "id": "i3MAD-D3T5Ur"
      },
      "outputs": [],
      "source": [
        "\n",
        "df.columns = df.columns.str.strip()"
      ]
    },
    {
      "cell_type": "code",
      "execution_count": 40,
      "id": "80ca6ef8",
      "metadata": {},
      "outputs": [
        {
          "data": {
            "text/plain": [
              "Text\n",
              " Sangatkecewa dengan penanganan administrasi yang lambat.                                          41\n",
              " Tata usaha kampus kurang responsif dan membuatkesal.                                              40\n",
              " Pelayanan sangat baik dan memuaskan.                                                              25\n",
              "senang dengan respons cepat dari tata usaha kampus.                                                23\n",
              " Pelayanan tata usaha kampusbiasa saja tidak ada yang istimewa.                                    23\n",
              "                                                                                                   ..\n",
              " Sayasenang dengan sistem pelayanan yang efisien dan teratur di tata usaha kampus.                  1\n",
              " Pelayanan tata usaha kampus sangat membantu dan solutif dalam menangani permasalahan akademik.     1\n",
              " Saya merasa kecewa  dengan kurangnya informasi yang disediakan oleh tata usaha kampus.             1\n",
              " Sayakesal karena tata usaha kampus seringkali lambat dalam mengurus izin studi.                    1\n",
              " Saya merasa puas sekali dengan pelayanan nya.                                                      1\n",
              "Name: count, Length: 424, dtype: int64"
            ]
          },
          "execution_count": 40,
          "metadata": {},
          "output_type": "execute_result"
        }
      ],
      "source": [
        "df['Text'].value_counts()"
      ]
    },
    {
      "cell_type": "code",
      "execution_count": 41,
      "id": "430565a3-cf3b-4c6f-afa5-bafd084f5676",
      "metadata": {
        "colab": {
          "base_uri": "https://localhost:8080/"
        },
        "id": "430565a3-cf3b-4c6f-afa5-bafd084f5676",
        "outputId": "6a3451ca-0e1c-40df-ac72-cfcfb9578def"
      },
      "outputs": [
        {
          "data": {
            "text/plain": [
              "Emotion\n",
              "puas          334\n",
              "kesal         329\n",
              "kecewa        322\n",
              "senang        218\n",
              "biasa saja    196\n",
              "sedih         121\n",
              " sedih          1\n",
              "Name: count, dtype: int64"
            ]
          },
          "execution_count": 41,
          "metadata": {},
          "output_type": "execute_result"
        }
      ],
      "source": [
        "# Value Counts\n",
        "df['Emotion'].value_counts()"
      ]
    },
    {
      "cell_type": "code",
      "execution_count": 42,
      "id": "531d3449-a959-4a19-bff0-3ffed551e619",
      "metadata": {
        "colab": {
          "base_uri": "https://localhost:8080/",
          "height": 466
        },
        "id": "531d3449-a959-4a19-bff0-3ffed551e619",
        "outputId": "be043110-5bab-466b-8db9-e22cd11047cf"
      },
      "outputs": [
        {
          "data": {
            "text/plain": [
              "<Axes: xlabel='Emotion', ylabel='count'>"
            ]
          },
          "execution_count": 42,
          "metadata": {},
          "output_type": "execute_result"
        },
        {
          "data": {
            "image/png": "[encoded data removed]",
            "text/plain": [
              "<Figure size 640x480 with 1 Axes>"
            ]
          },
          "metadata": {},
          "output_type": "display_data"
        }
      ],
      "source": [
        "# Plot\n",
        "sns.countplot(x='Emotion',data=df)"
      ]
    },
    {
      "cell_type": "code",
      "execution_count": 43,
      "id": "40f991d0-952f-40c1-bf00-f3476ce0436d",
      "metadata": {
        "colab": {
          "base_uri": "https://localhost:8080/"
        },
        "collapsed": true,
        "id": "40f991d0-952f-40c1-bf00-f3476ce0436d",
        "jupyter": {
          "outputs_hidden": true
        },
        "outputId": "d780d06a-75d7-4fdf-ef8f-9ee3c9d45412",
        "tags": []
      },
      "outputs": [
        {
          "data": {
            "text/plain": [
              "['BTC_ADDRESS_REGEX',\n",
              " 'CURRENCY_REGEX',\n",
              " 'CURRENCY_SYMB_REGEX',\n",
              " 'Counter',\n",
              " 'DATE_REGEX',\n",
              " 'EMAIL_REGEX',\n",
              " 'EMOJI_REGEX',\n",
              " 'HASTAG_REGEX',\n",
              " 'MASTERCard_REGEX',\n",
              " 'MD5_SHA_REGEX',\n",
              " 'MOST_COMMON_PUNCT_REGEX',\n",
              " 'NUMBERS_REGEX',\n",
              " 'PHONE_REGEX',\n",
              " 'PoBOX_REGEX',\n",
              " 'SPECIAL_CHARACTERS_REGEX',\n",
              " 'STOPWORDS',\n",
              " 'STOPWORDS_de',\n",
              " 'STOPWORDS_en',\n",
              " 'STOPWORDS_es',\n",
              " 'STOPWORDS_fr',\n",
              " 'STOPWORDS_ru',\n",
              " 'STOPWORDS_yo',\n",
              " 'STREET_ADDRESS_REGEX',\n",
              " 'TextFrame',\n",
              " 'URL_PATTERN',\n",
              " 'USER_HANDLES_REGEX',\n",
              " 'VISACard_REGEX',\n",
              " '__builtins__',\n",
              " '__cached__',\n",
              " '__doc__',\n",
              " '__file__',\n",
              " '__generate_text',\n",
              " '__loader__',\n",
              " '__name__',\n",
              " '__numbers_dict',\n",
              " '__package__',\n",
              " '__spec__',\n",
              " '_lex_richness_herdan',\n",
              " '_lex_richness_maas_ttr',\n",
              " 'clean_text',\n",
              " 'defaultdict',\n",
              " 'digit2words',\n",
              " 'extract_btc_address',\n",
              " 'extract_currencies',\n",
              " 'extract_currency_symbols',\n",
              " 'extract_dates',\n",
              " 'extract_emails',\n",
              " 'extract_emojis',\n",
              " 'extract_hashtags',\n",
              " 'extract_html_tags',\n",
              " 'extract_mastercard_addr',\n",
              " 'extract_md5sha',\n",
              " 'extract_numbers',\n",
              " 'extract_pattern',\n",
              " 'extract_phone_numbers',\n",
              " 'extract_postoffice_box',\n",
              " 'extract_shortwords',\n",
              " 'extract_special_characters',\n",
              " 'extract_stopwords',\n",
              " 'extract_street_address',\n",
              " 'extract_terms_in_bracket',\n",
              " 'extract_urls',\n",
              " 'extract_userhandles',\n",
              " 'extract_visacard_addr',\n",
              " 'fix_contractions',\n",
              " 'generate_sentence',\n",
              " 'hamming_distance',\n",
              " 'inverse_df',\n",
              " 'lexical_richness',\n",
              " 'markov_chain',\n",
              " 'math',\n",
              " 'nlargest',\n",
              " 'normalize',\n",
              " 'num2words',\n",
              " 'random',\n",
              " 're',\n",
              " 'read_txt',\n",
              " 'remove_accents',\n",
              " 'remove_bad_quotes',\n",
              " 'remove_btc_address',\n",
              " 'remove_currencies',\n",
              " 'remove_currency_symbols',\n",
              " 'remove_custom_pattern',\n",
              " 'remove_custom_words',\n",
              " 'remove_dates',\n",
              " 'remove_emails',\n",
              " 'remove_emojis',\n",
              " 'remove_hashtags',\n",
              " 'remove_html_tags',\n",
              " 'remove_mastercard_addr',\n",
              " 'remove_md5sha',\n",
              " 'remove_multiple_spaces',\n",
              " 'remove_non_ascii',\n",
              " 'remove_numbers',\n",
              " 'remove_phone_numbers',\n",
              " 'remove_postoffice_box',\n",
              " 'remove_puncts',\n",
              " 'remove_punctuations',\n",
              " 'remove_shortwords',\n",
              " 'remove_special_characters',\n",
              " 'remove_stopwords',\n",
              " 'remove_street_address',\n",
              " 'remove_terms_in_bracket',\n",
              " 'remove_urls',\n",
              " 'remove_userhandles',\n",
              " 'remove_visacard_addr',\n",
              " 'replace_bad_quotes',\n",
              " 'replace_currencies',\n",
              " 'replace_currency_symbols',\n",
              " 'replace_dates',\n",
              " 'replace_emails',\n",
              " 'replace_emojis',\n",
              " 'replace_numbers',\n",
              " 'replace_phone_numbers',\n",
              " 'replace_special_characters',\n",
              " 'replace_term',\n",
              " 'replace_urls',\n",
              " 'string',\n",
              " 'term_freq',\n",
              " 'to_txt',\n",
              " 'unicodedata',\n",
              " 'word_freq',\n",
              " 'word_length_freq']"
            ]
          },
          "execution_count": 43,
          "metadata": {},
          "output_type": "execute_result"
        }
      ],
      "source": [
        "# Data Cleaning\n",
        "dir(nfx)"
      ]
    },
    {
      "cell_type": "code",
      "execution_count": 44,
      "id": "b1f87847-a91c-4bd6-a307-d746eb5aa9a0",
      "metadata": {
        "id": "b1f87847-a91c-4bd6-a307-d746eb5aa9a0"
      },
      "outputs": [],
      "source": [
        "# User handles\n",
        "df['Clean_Text'] = df['Text'].apply(nfx.remove_userhandles)"
      ]
    },
    {
      "cell_type": "code",
      "execution_count": 45,
      "id": "03886bc3-1ac4-4f1b-842b-e5d2d770ff81",
      "metadata": {
        "id": "03886bc3-1ac4-4f1b-842b-e5d2d770ff81"
      },
      "outputs": [],
      "source": [
        "# Stopwords\n",
        "df['Clean_Text'] = df['Clean_Text'].apply(nfx.remove_stopwords)"
      ]
    },
    {
      "cell_type": "code",
      "execution_count": 46,
      "id": "0a0fcc0c-4adf-4f0b-b226-164659ad70ba",
      "metadata": {
        "colab": {
          "base_uri": "https://localhost:8080/",
          "height": 468
        },
        "collapsed": true,
        "id": "0a0fcc0c-4adf-4f0b-b226-164659ad70ba",
        "jupyter": {
          "outputs_hidden": true
        },
        "outputId": "2d6926ae-ef4a-4c91-aa6d-adb777395e8d",
        "tags": []
      },
      "outputs": [
        {
          "data": {
            "text/html": [
              "<div>\n",
              "<style scoped>\n",
              "    .dataframe tbody tr th:only-of-type {\n",
              "        vertical-align: middle;\n",
              "    }\n",
              "\n",
              "    .dataframe tbody tr th {\n",
              "        vertical-align: top;\n",
              "    }\n",
              "\n",
              "    .dataframe thead th {\n",
              "        text-align: right;\n",
              "    }\n",
              "</style>\n",
              "<table border=\"1\" class=\"dataframe\">\n",
              "  <thead>\n",
              "    <tr style=\"text-align: right;\">\n",
              "      <th></th>\n",
              "      <th>Unnamed: 0</th>\n",
              "      <th>Emotion</th>\n",
              "      <th>Text</th>\n",
              "      <th>Clean_text</th>\n",
              "      <th>Clean_Text</th>\n",
              "    </tr>\n",
              "  </thead>\n",
              "  <tbody>\n",
              "    <tr>\n",
              "      <th>0</th>\n",
              "      <td>1</td>\n",
              "      <td>senang</td>\n",
              "      <td>Pelayanannya sangat memuaskan.</td>\n",
              "      <td>pelayanannya sangat memuaskan</td>\n",
              "      <td>Pelayanannya sangat memuaskan.</td>\n",
              "    </tr>\n",
              "    <tr>\n",
              "      <th>1</th>\n",
              "      <td>2</td>\n",
              "      <td>puas</td>\n",
              "      <td>Proses administrasinya cepat dan mudah.</td>\n",
              "      <td>proses administrasi cepat mudah</td>\n",
              "      <td>Proses administrasinya cepat dan mudah.</td>\n",
              "    </tr>\n",
              "    <tr>\n",
              "      <th>2</th>\n",
              "      <td>3</td>\n",
              "      <td>biasa saja</td>\n",
              "      <td>Tidak ada yang istimewa dari pelayanannya.</td>\n",
              "      <td>tidak ada yang istimewa pelayanannya</td>\n",
              "      <td>Tidak ada yang istimewa dari pelayanannya.</td>\n",
              "    </tr>\n",
              "    <tr>\n",
              "      <th>3</th>\n",
              "      <td>4</td>\n",
              "      <td>kesal</td>\n",
              "      <td>Pelayanannya sangat lambat dan tidak responsif.</td>\n",
              "      <td>pelayanannya sangat lambat tidak responsif</td>\n",
              "      <td>Pelayanannya sangat lambat dan tidak responsif.</td>\n",
              "    </tr>\n",
              "    <tr>\n",
              "      <th>4</th>\n",
              "      <td>5</td>\n",
              "      <td>kecewa</td>\n",
              "      <td>Kualitas layanan menurun drastis.</td>\n",
              "      <td>kualitas layanan menurun drastis</td>\n",
              "      <td>Kualitas layanan menurun drastis.</td>\n",
              "    </tr>\n",
              "    <tr>\n",
              "      <th>...</th>\n",
              "      <td>...</td>\n",
              "      <td>...</td>\n",
              "      <td>...</td>\n",
              "      <td>...</td>\n",
              "      <td>...</td>\n",
              "    </tr>\n",
              "    <tr>\n",
              "      <th>1516</th>\n",
              "      <td>1517</td>\n",
              "      <td>kecewa</td>\n",
              "      <td>Saya merasa kecewa  karena tata usaha kampus ...</td>\n",
              "      <td>Saya merasa kecewa  karena tata usaha kampus ...</td>\n",
              "      <td>Saya merasa kecewa karena tata usaha kampus te...</td>\n",
              "    </tr>\n",
              "    <tr>\n",
              "      <th>1517</th>\n",
              "      <td>1518</td>\n",
              "      <td>kesal</td>\n",
              "      <td>Saya merasa kesal karena tata usaha kampus ti...</td>\n",
              "      <td>Saya merasa kesal karena tata usaha kampus ti...</td>\n",
              "      <td>Saya merasa kesal karena tata usaha kampus tid...</td>\n",
              "    </tr>\n",
              "    <tr>\n",
              "      <th>1518</th>\n",
              "      <td>1519</td>\n",
              "      <td>kecewa</td>\n",
              "      <td>Saya merasa kecewa  karena tata usaha kampus ...</td>\n",
              "      <td>Saya merasa kecewa  karena tata usaha kampus ...</td>\n",
              "      <td>Saya merasa kecewa karena tata usaha kampus ti...</td>\n",
              "    </tr>\n",
              "    <tr>\n",
              "      <th>1519</th>\n",
              "      <td>1520</td>\n",
              "      <td>kesal</td>\n",
              "      <td>Saya merasa kesal karena tata usaha kampus ti...</td>\n",
              "      <td>Saya merasa kesal karena tata usaha</td>\n",
              "      <td>Saya merasa kesal karena tata usaha kampus tid...</td>\n",
              "    </tr>\n",
              "    <tr>\n",
              "      <th>1520</th>\n",
              "      <td>1521</td>\n",
              "      <td>puas</td>\n",
              "      <td>Saya merasa puas sekali dengan pelayanan nya.</td>\n",
              "      <td>Saya merasa puas</td>\n",
              "      <td>Saya merasa puas sekali dengan pelayanan nya.</td>\n",
              "    </tr>\n",
              "  </tbody>\n",
              "</table>\n",
              "<p>1521 rows × 5 columns</p>\n",
              "</div>"
            ],
            "text/plain": [
              "      Unnamed: 0     Emotion  \\\n",
              "0              1      senang   \n",
              "1              2        puas   \n",
              "2              3  biasa saja   \n",
              "3              4       kesal   \n",
              "4              5      kecewa   \n",
              "...          ...         ...   \n",
              "1516        1517      kecewa   \n",
              "1517        1518       kesal   \n",
              "1518        1519      kecewa   \n",
              "1519        1520       kesal   \n",
              "1520        1521        puas   \n",
              "\n",
              "                                                   Text  \\\n",
              "0                        Pelayanannya sangat memuaskan.   \n",
              "1               Proses administrasinya cepat dan mudah.   \n",
              "2            Tidak ada yang istimewa dari pelayanannya.   \n",
              "3       Pelayanannya sangat lambat dan tidak responsif.   \n",
              "4                     Kualitas layanan menurun drastis.   \n",
              "...                                                 ...   \n",
              "1516   Saya merasa kecewa  karena tata usaha kampus ...   \n",
              "1517   Saya merasa kesal karena tata usaha kampus ti...   \n",
              "1518   Saya merasa kecewa  karena tata usaha kampus ...   \n",
              "1519   Saya merasa kesal karena tata usaha kampus ti...   \n",
              "1520      Saya merasa puas sekali dengan pelayanan nya.   \n",
              "\n",
              "                                             Clean_text  \\\n",
              "0                         pelayanannya sangat memuaskan   \n",
              "1                       proses administrasi cepat mudah   \n",
              "2                  tidak ada yang istimewa pelayanannya   \n",
              "3            pelayanannya sangat lambat tidak responsif   \n",
              "4                      kualitas layanan menurun drastis   \n",
              "...                                                 ...   \n",
              "1516   Saya merasa kecewa  karena tata usaha kampus ...   \n",
              "1517   Saya merasa kesal karena tata usaha kampus ti...   \n",
              "1518   Saya merasa kecewa  karena tata usaha kampus ...   \n",
              "1519                Saya merasa kesal karena tata usaha   \n",
              "1520                                   Saya merasa puas   \n",
              "\n",
              "                                             Clean_Text  \n",
              "0                        Pelayanannya sangat memuaskan.  \n",
              "1               Proses administrasinya cepat dan mudah.  \n",
              "2            Tidak ada yang istimewa dari pelayanannya.  \n",
              "3       Pelayanannya sangat lambat dan tidak responsif.  \n",
              "4                     Kualitas layanan menurun drastis.  \n",
              "...                                                 ...  \n",
              "1516  Saya merasa kecewa karena tata usaha kampus te...  \n",
              "1517  Saya merasa kesal karena tata usaha kampus tid...  \n",
              "1518  Saya merasa kecewa karena tata usaha kampus ti...  \n",
              "1519  Saya merasa kesal karena tata usaha kampus tid...  \n",
              "1520      Saya merasa puas sekali dengan pelayanan nya.  \n",
              "\n",
              "[1521 rows x 5 columns]"
            ]
          },
          "execution_count": 46,
          "metadata": {},
          "output_type": "execute_result"
        }
      ],
      "source": [
        "df"
      ]
    },
    {
      "cell_type": "code",
      "execution_count": 47,
      "id": "450c39c0-79dd-4eaf-85fe-57e344eb81bd",
      "metadata": {
        "id": "450c39c0-79dd-4eaf-85fe-57e344eb81bd"
      },
      "outputs": [],
      "source": [
        "# Features & Labels\n",
        "Xfeatures = df['Clean_Text']\n",
        "ylabels = df['Emotion']"
      ]
    },
    {
      "cell_type": "code",
      "execution_count": 48,
      "id": "27d7f976-c28f-449e-ae1a-53a42bbda4e8",
      "metadata": {
        "id": "27d7f976-c28f-449e-ae1a-53a42bbda4e8"
      },
      "outputs": [],
      "source": [
        "#  Split Data\n",
        "x_train,x_test,y_train,y_test = train_test_split(Xfeatures,ylabels,test_size=0.3,random_state=42)"
      ]
    },
    {
      "cell_type": "code",
      "execution_count": 49,
      "id": "2f086f29-dba9-40d2-a9dd-f06a6cca3a4c",
      "metadata": {
        "id": "2f086f29-dba9-40d2-a9dd-f06a6cca3a4c"
      },
      "outputs": [],
      "source": [
        "# Build Pipeline\n",
        "from sklearn.pipeline import Pipeline"
      ]
    },
    {
      "cell_type": "code",
      "execution_count": 50,
      "id": "6b81cc86-2bef-40c2-b9a3-668caaadaff0",
      "metadata": {
        "id": "6b81cc86-2bef-40c2-b9a3-668caaadaff0"
      },
      "outputs": [],
      "source": [
        "# LogisticRegression Pipeline\n",
        "pipe_lr = Pipeline(steps=[('cv',CountVectorizer()),('lr',LogisticRegression())])"
      ]
    },
    {
      "cell_type": "code",
      "execution_count": 51,
      "id": "dc64b9a7-efe2-4bc4-a0e7-46dff1d52b31",
      "metadata": {
        "colab": {
          "base_uri": "https://localhost:8080/",
          "height": 172
        },
        "collapsed": true,
        "id": "dc64b9a7-efe2-4bc4-a0e7-46dff1d52b31",
        "jupyter": {
          "outputs_hidden": true
        },
        "outputId": "c2e786bd-636c-4890-9b8b-8799f7bc8ab2",
        "tags": []
      },
      "outputs": [
        {
          "data": {
            "text/plain": [
              "Pipeline(steps=[('cv', CountVectorizer()), ('lr', LogisticRegression())])"
            ]
          },
          "execution_count": 51,
          "metadata": {},
          "output_type": "execute_result"
        }
      ],
      "source": [
        "# Train and Fit Data\n",
        "pipe_lr.fit(x_train,y_train)"
      ]
    },
    {
      "cell_type": "code",
      "execution_count": 52,
      "id": "135ed6f8-56ff-4d53-85e3-541e3a7ae2d7",
      "metadata": {
        "colab": {
          "base_uri": "https://localhost:8080/",
          "height": 172
        },
        "id": "135ed6f8-56ff-4d53-85e3-541e3a7ae2d7",
        "outputId": "c5fe7206-8cc4-4228-914a-ba661c2f578e"
      },
      "outputs": [
        {
          "data": {
            "text/plain": [
              "Pipeline(steps=[('cv', CountVectorizer()), ('lr', LogisticRegression())])"
            ]
          },
          "execution_count": 52,
          "metadata": {},
          "output_type": "execute_result"
        }
      ],
      "source": [
        "pipe_lr"
      ]
    },
    {
      "cell_type": "code",
      "execution_count": 53,
      "id": "28396371-5f5c-4a3b-b974-164e047764f3",
      "metadata": {
        "colab": {
          "base_uri": "https://localhost:8080/"
        },
        "id": "28396371-5f5c-4a3b-b974-164e047764f3",
        "outputId": "3b00c948-94f1-41cd-af0d-6cd1725f4a6e"
      },
      "outputs": [
        {
          "data": {
            "text/plain": [
              "0.9912472647702407"
            ]
          },
          "execution_count": 53,
          "metadata": {},
          "output_type": "execute_result"
        }
      ],
      "source": [
        "# Check Accuracy\n",
        "pipe_lr.score(x_test,y_test)"
      ]
    },
    {
      "cell_type": "code",
      "execution_count": 59,
      "id": "eb3a26b6-d09e-422f-991b-b08c48f55b75",
      "metadata": {
        "id": "eb3a26b6-d09e-422f-991b-b08c48f55b75"
      },
      "outputs": [],
      "source": [
        "# Make A Prediction\n",
        "ex1 = \"Pelayanan nya bagus\""
      ]
    },
    {
      "cell_type": "code",
      "execution_count": 55,
      "id": "b08597d9-6f59-45cb-a648-95b0da1ce313",
      "metadata": {
        "colab": {
          "base_uri": "https://localhost:8080/"
        },
        "id": "b08597d9-6f59-45cb-a648-95b0da1ce313",
        "outputId": "4676afcf-89bd-4c76-dc93-1930d871f14f"
      },
      "outputs": [
        {
          "data": {
            "text/plain": [
              "array(['puas'], dtype=object)"
            ]
          },
          "execution_count": 55,
          "metadata": {},
          "output_type": "execute_result"
        }
      ],
      "source": [
        "pipe_lr.predict([ex1])"
      ]
    },
    {
      "cell_type": "code",
      "execution_count": 56,
      "id": "5b3822ac-17fc-43dd-9bb7-8dad07a4d32c",
      "metadata": {
        "colab": {
          "base_uri": "https://localhost:8080/"
        },
        "id": "5b3822ac-17fc-43dd-9bb7-8dad07a4d32c",
        "outputId": "5503e14b-ae48-4283-e316-5ade51df8168"
      },
      "outputs": [
        {
          "data": {
            "text/plain": [
              "array([[0.18469655, 0.05845191, 0.04789601, 0.38737586, 0.01131037,\n",
              "        0.31026931]])"
            ]
          },
          "execution_count": 56,
          "metadata": {},
          "output_type": "execute_result"
        }
      ],
      "source": [
        "# Prediction Prob\n",
        "pipe_lr.predict_proba([ex1])"
      ]
    },
    {
      "cell_type": "code",
      "execution_count": 57,
      "id": "5b7c4596-d643-48e5-a777-79a6f55c49da",
      "metadata": {
        "colab": {
          "base_uri": "https://localhost:8080/"
        },
        "id": "5b7c4596-d643-48e5-a777-79a6f55c49da",
        "outputId": "648e991c-ff6f-4a5b-9279-bedb8319e2ae"
      },
      "outputs": [
        {
          "data": {
            "text/plain": [
              "array(['biasa saja', 'kecewa', 'kesal', 'puas', 'sedih', 'senang'],\n",
              "      dtype=object)"
            ]
          },
          "execution_count": 57,
          "metadata": {},
          "output_type": "execute_result"
        }
      ],
      "source": [
        "# To Know the classes\n",
        "pipe_lr.classes_"
      ]
    },
    {
      "cell_type": "code",
      "execution_count": 58,
      "id": "c0d40f62-b1fd-4748-a279-c8f50c748f26",
      "metadata": {
        "id": "c0d40f62-b1fd-4748-a279-c8f50c748f26"
      },
      "outputs": [],
      "source": [
        "# Save Model & Pipeline\n",
        "import joblib\n",
        "pipeline_file = open(\"emotiondetector5.pickle\",\"wb\")\n",
        "joblib.dump(pipe_lr,pipeline_file)\n",
        "pipeline_file.close()"
      ]
    },
    {
      "cell_type": "code",
      "execution_count": null,
      "id": "377c4e98-67f0-45e5-8dd5-0417585754f0",
      "metadata": {
        "id": "377c4e98-67f0-45e5-8dd5-0417585754f0"
      },
      "outputs": [],
      "source": []
    }
  ],
  "metadata": {
    "colab": {
      "provenance": []
    },
    "kernelspec": {
      "display_name": "Python 3",
      "language": "python",
      "name": "python3"
    },
    "language_info": {
      "codemirror_mode": {
        "name": "ipython",
        "version": 3
      },
      "file_extension": ".py",
      "mimetype": "text/x-python",
      "name": "python",
      "nbconvert_exporter": "python",
      "pygments_lexer": "ipython3",
      "version": "3.9.17"
    }
  },
  "nbformat": 4,
  "nbformat_minor": 5
}
